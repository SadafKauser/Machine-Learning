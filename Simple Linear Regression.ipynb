{
 "cells": [
  {
   "cell_type": "markdown",
   "id": "b5579809",
   "metadata": {},
   "source": [
    "##### Simple Linear Regression"
   ]
  },
  {
   "cell_type": "markdown",
   "id": "3f8273eb",
   "metadata": {},
   "source": [
    "Everything You Need to Know About Linear Regression | by Tanvi Penumudy | Analytics Vidhya | Medium"
   ]
  },
  {
   "cell_type": "code",
   "execution_count": 1,
   "id": "14411e9b",
   "metadata": {},
   "outputs": [],
   "source": [
    "import pandas as pd"
   ]
  },
  {
   "cell_type": "code",
   "execution_count": 2,
   "id": "3a2c8e85",
   "metadata": {},
   "outputs": [],
   "source": [
    "# Reading csv file from github repo\n",
    "df=pd.read_csv(\"C:\\\\Users\\\\SADAF KAUSER\\\\Documents\\\\CodeYoung\\\\ML Classes\\\\Files\\\\tvmarketing.csv\")"
   ]
  },
  {
   "cell_type": "code",
   "execution_count": 3,
   "id": "e613c293",
   "metadata": {},
   "outputs": [
    {
     "data": {
      "text/html": [
       "<div>\n",
       "<style scoped>\n",
       "    .dataframe tbody tr th:only-of-type {\n",
       "        vertical-align: middle;\n",
       "    }\n",
       "\n",
       "    .dataframe tbody tr th {\n",
       "        vertical-align: top;\n",
       "    }\n",
       "\n",
       "    .dataframe thead th {\n",
       "        text-align: right;\n",
       "    }\n",
       "</style>\n",
       "<table border=\"1\" class=\"dataframe\">\n",
       "  <thead>\n",
       "    <tr style=\"text-align: right;\">\n",
       "      <th></th>\n",
       "      <th>TV</th>\n",
       "      <th>Sales</th>\n",
       "    </tr>\n",
       "  </thead>\n",
       "  <tbody>\n",
       "    <tr>\n",
       "      <th>0</th>\n",
       "      <td>230.1</td>\n",
       "      <td>22.1</td>\n",
       "    </tr>\n",
       "    <tr>\n",
       "      <th>1</th>\n",
       "      <td>44.5</td>\n",
       "      <td>10.4</td>\n",
       "    </tr>\n",
       "    <tr>\n",
       "      <th>2</th>\n",
       "      <td>17.2</td>\n",
       "      <td>9.3</td>\n",
       "    </tr>\n",
       "    <tr>\n",
       "      <th>3</th>\n",
       "      <td>151.5</td>\n",
       "      <td>18.5</td>\n",
       "    </tr>\n",
       "    <tr>\n",
       "      <th>4</th>\n",
       "      <td>180.8</td>\n",
       "      <td>12.9</td>\n",
       "    </tr>\n",
       "    <tr>\n",
       "      <th>...</th>\n",
       "      <td>...</td>\n",
       "      <td>...</td>\n",
       "    </tr>\n",
       "    <tr>\n",
       "      <th>195</th>\n",
       "      <td>38.2</td>\n",
       "      <td>7.6</td>\n",
       "    </tr>\n",
       "    <tr>\n",
       "      <th>196</th>\n",
       "      <td>94.2</td>\n",
       "      <td>9.7</td>\n",
       "    </tr>\n",
       "    <tr>\n",
       "      <th>197</th>\n",
       "      <td>177.0</td>\n",
       "      <td>12.8</td>\n",
       "    </tr>\n",
       "    <tr>\n",
       "      <th>198</th>\n",
       "      <td>283.6</td>\n",
       "      <td>25.5</td>\n",
       "    </tr>\n",
       "    <tr>\n",
       "      <th>199</th>\n",
       "      <td>232.1</td>\n",
       "      <td>13.4</td>\n",
       "    </tr>\n",
       "  </tbody>\n",
       "</table>\n",
       "<p>200 rows × 2 columns</p>\n",
       "</div>"
      ],
      "text/plain": [
       "        TV  Sales\n",
       "0    230.1   22.1\n",
       "1     44.5   10.4\n",
       "2     17.2    9.3\n",
       "3    151.5   18.5\n",
       "4    180.8   12.9\n",
       "..     ...    ...\n",
       "195   38.2    7.6\n",
       "196   94.2    9.7\n",
       "197  177.0   12.8\n",
       "198  283.6   25.5\n",
       "199  232.1   13.4\n",
       "\n",
       "[200 rows x 2 columns]"
      ]
     },
     "execution_count": 3,
     "metadata": {},
     "output_type": "execute_result"
    }
   ],
   "source": [
    "df"
   ]
  },
  {
   "cell_type": "code",
   "execution_count": 4,
   "id": "30d08fb0",
   "metadata": {},
   "outputs": [
    {
     "data": {
      "text/html": [
       "<div>\n",
       "<style scoped>\n",
       "    .dataframe tbody tr th:only-of-type {\n",
       "        vertical-align: middle;\n",
       "    }\n",
       "\n",
       "    .dataframe tbody tr th {\n",
       "        vertical-align: top;\n",
       "    }\n",
       "\n",
       "    .dataframe thead th {\n",
       "        text-align: right;\n",
       "    }\n",
       "</style>\n",
       "<table border=\"1\" class=\"dataframe\">\n",
       "  <thead>\n",
       "    <tr style=\"text-align: right;\">\n",
       "      <th></th>\n",
       "      <th>TV</th>\n",
       "      <th>Sales</th>\n",
       "    </tr>\n",
       "  </thead>\n",
       "  <tbody>\n",
       "    <tr>\n",
       "      <th>0</th>\n",
       "      <td>230.1</td>\n",
       "      <td>22.1</td>\n",
       "    </tr>\n",
       "    <tr>\n",
       "      <th>1</th>\n",
       "      <td>44.5</td>\n",
       "      <td>10.4</td>\n",
       "    </tr>\n",
       "    <tr>\n",
       "      <th>2</th>\n",
       "      <td>17.2</td>\n",
       "      <td>9.3</td>\n",
       "    </tr>\n",
       "    <tr>\n",
       "      <th>3</th>\n",
       "      <td>151.5</td>\n",
       "      <td>18.5</td>\n",
       "    </tr>\n",
       "    <tr>\n",
       "      <th>4</th>\n",
       "      <td>180.8</td>\n",
       "      <td>12.9</td>\n",
       "    </tr>\n",
       "  </tbody>\n",
       "</table>\n",
       "</div>"
      ],
      "text/plain": [
       "      TV  Sales\n",
       "0  230.1   22.1\n",
       "1   44.5   10.4\n",
       "2   17.2    9.3\n",
       "3  151.5   18.5\n",
       "4  180.8   12.9"
      ]
     },
     "execution_count": 4,
     "metadata": {},
     "output_type": "execute_result"
    }
   ],
   "source": [
    "# Display the first 5 row\n",
    "df.head()"
   ]
  },
  {
   "cell_type": "code",
   "execution_count": 5,
   "id": "049256b4",
   "metadata": {},
   "outputs": [
    {
     "data": {
      "text/html": [
       "<div>\n",
       "<style scoped>\n",
       "    .dataframe tbody tr th:only-of-type {\n",
       "        vertical-align: middle;\n",
       "    }\n",
       "\n",
       "    .dataframe tbody tr th {\n",
       "        vertical-align: top;\n",
       "    }\n",
       "\n",
       "    .dataframe thead th {\n",
       "        text-align: right;\n",
       "    }\n",
       "</style>\n",
       "<table border=\"1\" class=\"dataframe\">\n",
       "  <thead>\n",
       "    <tr style=\"text-align: right;\">\n",
       "      <th></th>\n",
       "      <th>TV</th>\n",
       "      <th>Sales</th>\n",
       "    </tr>\n",
       "  </thead>\n",
       "  <tbody>\n",
       "    <tr>\n",
       "      <th>195</th>\n",
       "      <td>38.2</td>\n",
       "      <td>7.6</td>\n",
       "    </tr>\n",
       "    <tr>\n",
       "      <th>196</th>\n",
       "      <td>94.2</td>\n",
       "      <td>9.7</td>\n",
       "    </tr>\n",
       "    <tr>\n",
       "      <th>197</th>\n",
       "      <td>177.0</td>\n",
       "      <td>12.8</td>\n",
       "    </tr>\n",
       "    <tr>\n",
       "      <th>198</th>\n",
       "      <td>283.6</td>\n",
       "      <td>25.5</td>\n",
       "    </tr>\n",
       "    <tr>\n",
       "      <th>199</th>\n",
       "      <td>232.1</td>\n",
       "      <td>13.4</td>\n",
       "    </tr>\n",
       "  </tbody>\n",
       "</table>\n",
       "</div>"
      ],
      "text/plain": [
       "        TV  Sales\n",
       "195   38.2    7.6\n",
       "196   94.2    9.7\n",
       "197  177.0   12.8\n",
       "198  283.6   25.5\n",
       "199  232.1   13.4"
      ]
     },
     "execution_count": 5,
     "metadata": {},
     "output_type": "execute_result"
    }
   ],
   "source": [
    "# Display the last 5 rows\n",
    "df.tail()"
   ]
  },
  {
   "cell_type": "code",
   "execution_count": 6,
   "id": "0df4b885",
   "metadata": {},
   "outputs": [
    {
     "name": "stdout",
     "output_type": "stream",
     "text": [
      "<class 'pandas.core.frame.DataFrame'>\n",
      "RangeIndex: 200 entries, 0 to 199\n",
      "Data columns (total 2 columns):\n",
      " #   Column  Non-Null Count  Dtype  \n",
      "---  ------  --------------  -----  \n",
      " 0   TV      200 non-null    float64\n",
      " 1   Sales   200 non-null    float64\n",
      "dtypes: float64(2)\n",
      "memory usage: 3.2 KB\n"
     ]
    }
   ],
   "source": [
    "# Let's check the columns\n",
    "df.info()"
   ]
  },
  {
   "cell_type": "code",
   "execution_count": 7,
   "id": "eda88b36",
   "metadata": {},
   "outputs": [
    {
     "data": {
      "text/plain": [
       "(200, 2)"
      ]
     },
     "execution_count": 7,
     "metadata": {},
     "output_type": "execute_result"
    }
   ],
   "source": [
    "# Check the shape of the DataFrame (rows, columns)\n",
    "df.shape"
   ]
  },
  {
   "cell_type": "code",
   "execution_count": 8,
   "id": "3378919e",
   "metadata": {},
   "outputs": [
    {
     "data": {
      "text/html": [
       "<div>\n",
       "<style scoped>\n",
       "    .dataframe tbody tr th:only-of-type {\n",
       "        vertical-align: middle;\n",
       "    }\n",
       "\n",
       "    .dataframe tbody tr th {\n",
       "        vertical-align: top;\n",
       "    }\n",
       "\n",
       "    .dataframe thead th {\n",
       "        text-align: right;\n",
       "    }\n",
       "</style>\n",
       "<table border=\"1\" class=\"dataframe\">\n",
       "  <thead>\n",
       "    <tr style=\"text-align: right;\">\n",
       "      <th></th>\n",
       "      <th>TV</th>\n",
       "      <th>Sales</th>\n",
       "    </tr>\n",
       "  </thead>\n",
       "  <tbody>\n",
       "    <tr>\n",
       "      <th>count</th>\n",
       "      <td>200.000000</td>\n",
       "      <td>200.000000</td>\n",
       "    </tr>\n",
       "    <tr>\n",
       "      <th>mean</th>\n",
       "      <td>147.042500</td>\n",
       "      <td>14.022500</td>\n",
       "    </tr>\n",
       "    <tr>\n",
       "      <th>std</th>\n",
       "      <td>85.854236</td>\n",
       "      <td>5.217457</td>\n",
       "    </tr>\n",
       "    <tr>\n",
       "      <th>min</th>\n",
       "      <td>0.700000</td>\n",
       "      <td>1.600000</td>\n",
       "    </tr>\n",
       "    <tr>\n",
       "      <th>25%</th>\n",
       "      <td>74.375000</td>\n",
       "      <td>10.375000</td>\n",
       "    </tr>\n",
       "    <tr>\n",
       "      <th>50%</th>\n",
       "      <td>149.750000</td>\n",
       "      <td>12.900000</td>\n",
       "    </tr>\n",
       "    <tr>\n",
       "      <th>75%</th>\n",
       "      <td>218.825000</td>\n",
       "      <td>17.400000</td>\n",
       "    </tr>\n",
       "    <tr>\n",
       "      <th>max</th>\n",
       "      <td>296.400000</td>\n",
       "      <td>27.000000</td>\n",
       "    </tr>\n",
       "  </tbody>\n",
       "</table>\n",
       "</div>"
      ],
      "text/plain": [
       "               TV       Sales\n",
       "count  200.000000  200.000000\n",
       "mean   147.042500   14.022500\n",
       "std     85.854236    5.217457\n",
       "min      0.700000    1.600000\n",
       "25%     74.375000   10.375000\n",
       "50%    149.750000   12.900000\n",
       "75%    218.825000   17.400000\n",
       "max    296.400000   27.000000"
      ]
     },
     "execution_count": 8,
     "metadata": {},
     "output_type": "execute_result"
    }
   ],
   "source": [
    "# Let's look at some statistical information about the dataframe.\n",
    "df.describe()"
   ]
  },
  {
   "cell_type": "code",
   "execution_count": 9,
   "id": "4074a379",
   "metadata": {},
   "outputs": [
    {
     "data": {
      "text/plain": [
       "<AxesSubplot:xlabel='TV', ylabel='Sales'>"
      ]
     },
     "execution_count": 9,
     "metadata": {},
     "output_type": "execute_result"
    },
    {
     "data": {
      "image/png": "[encoded data removed]",
      "text/plain": [
       "<Figure size 432x288 with 1 Axes>"
      ]
     },
     "metadata": {
      "needs_background": "light"
     },
     "output_type": "display_data"
    }
   ],
   "source": [
    "# Visualise the relationship between the features and the response using scatterplots\n",
    "df.plot(x='TV',y='Sales',kind='scatter')"
   ]
  },
  {
   "cell_type": "markdown",
   "id": "3f92d1d2",
   "metadata": {},
   "source": [
    "Perfroming Simple Linear Regression\n",
    "Equation of linear regression\n",
    "y=c+m1x1+m2x2+...+mnxn\n",
    "y\n",
    " is the response\n",
    "c\n",
    " is the intercept\n",
    "m1\n",
    " is the coefficient for the first feature\n",
    "mn\n",
    " is the coefficient for the nth feature\n",
    "In our case:\n",
    "\n",
    "y=c+m1×TV\n",
    "The m\n",
    " values are called the model coefficients or model parameters.\n",
    "\n",
    "Generic Steps in Model Building using sklearn\n",
    "Before you read further, it is good to understand the generic structure of modeling using the scikit-learn library. Broadly, the steps to build any model can be divided as follows:\n",
    "\n",
    "Preparing X and y\n",
    "The scikit-learn library expects X (feature variable) and y (response variable) to be NumPy arrays.\n",
    "However, X can be a dataframe as Pandas is built over NumPy."
   ]
  },
  {
   "cell_type": "code",
   "execution_count": 10,
   "id": "3d7f32d8",
   "metadata": {},
   "outputs": [
    {
     "data": {
      "text/plain": [
       "0    230.1\n",
       "1     44.5\n",
       "2     17.2\n",
       "3    151.5\n",
       "4    180.8\n",
       "Name: TV, dtype: float64"
      ]
     },
     "execution_count": 10,
     "metadata": {},
     "output_type": "execute_result"
    }
   ],
   "source": [
    "# Putting feature variable to X\n",
    "X = df['TV']\n",
    "\n",
    "# Print the first 5 rows\n",
    "X.head()"
   ]
  },
  {
   "cell_type": "code",
   "execution_count": 11,
   "id": "18263a04",
   "metadata": {},
   "outputs": [
    {
     "data": {
      "text/plain": [
       "0    22.1\n",
       "1    10.4\n",
       "2     9.3\n",
       "3    18.5\n",
       "4    12.9\n",
       "Name: Sales, dtype: float64"
      ]
     },
     "execution_count": 11,
     "metadata": {},
     "output_type": "execute_result"
    }
   ],
   "source": [
    "# Putting response variable to y\n",
    "y = df['Sales']\n",
    "\n",
    "# Print the first 5 rows\n",
    "y.head()"
   ]
  },
  {
   "cell_type": "markdown",
   "id": "c91760df",
   "metadata": {},
   "source": [
    "# Splitting Data into Training and Testing Sets"
   ]
  },
  {
   "cell_type": "code",
   "execution_count": 12,
   "id": "b758c09a",
   "metadata": {},
   "outputs": [],
   "source": [
    "#random_state is the seed used by the random number generator, it can be any integer.\n",
    "\n",
    "from sklearn.model_selection import train_test_split\n",
    "X_train, X_test, y_train, y_test = train_test_split(X, y, train_size=0.7 , random_state=0000)"
   ]
  },
  {
   "cell_type": "code",
   "execution_count": 13,
   "id": "48ef4944",
   "metadata": {},
   "outputs": [
    {
     "name": "stdout",
     "output_type": "stream",
     "text": [
      "<class 'pandas.core.series.Series'>\n",
      "<class 'pandas.core.series.Series'>\n",
      "<class 'pandas.core.series.Series'>\n",
      "<class 'pandas.core.series.Series'>\n"
     ]
    }
   ],
   "source": [
    "print(type(X_train))\n",
    "print(type(X_test))\n",
    "print(type(y_train))\n",
    "print(type(y_test))"
   ]
  },
  {
   "cell_type": "code",
   "execution_count": 14,
   "id": "c34d1523",
   "metadata": {},
   "outputs": [
    {
     "data": {
      "text/plain": [
       "<function sklearn.model_selection._split.train_test_split(*arrays, test_size=None, train_size=None, random_state=None, shuffle=True, stratify=None)>"
      ]
     },
     "execution_count": 14,
     "metadata": {},
     "output_type": "execute_result"
    }
   ],
   "source": [
    "train_test_split      \n",
    "#Press Tab+Shift to read the documentation"
   ]
  },
  {
   "cell_type": "code",
   "execution_count": 15,
   "id": "cb7edebf",
   "metadata": {},
   "outputs": [
    {
     "name": "stdout",
     "output_type": "stream",
     "text": [
      "(140,)\n",
      "(140,)\n",
      "(60,)\n",
      "(60,)\n"
     ]
    }
   ],
   "source": [
    "print(X_train.shape)\n",
    "print(y_train.shape)\n",
    "print(X_test.shape)\n",
    "print(y_test.shape)"
   ]
  },
  {
   "cell_type": "markdown",
   "id": "1a13f966",
   "metadata": {},
   "source": [
    "The np.newaxis object is used to increase the dimensionality of an array in NumPy. It is often used to reshape or transform arrays to match the required input format for certain operations or algorithms. By inserting np.newaxis at a specific position within the indexing brackets, you can add an additional dimension of size 1 to the array."
   ]
  },
  {
   "cell_type": "code",
   "execution_count": 15,
   "id": "0aa91c7d",
   "metadata": {},
   "outputs": [
    {
     "name": "stdout",
     "output_type": "stream",
     "text": [
      "[[1]\n",
      " [2]\n",
      " [3]\n",
      " [4]\n",
      " [5]]\n"
     ]
    }
   ],
   "source": [
    "import numpy as np\n",
    "\n",
    "# Create a 1-dimensional array\n",
    "a = np.array([1, 2, 3, 4, 5])\n",
    "\n",
    "# Reshape the array to a 2-dimensional column vector\n",
    "b = a[:, np.newaxis]\n",
    "\n",
    "print(b)\n"
   ]
  },
  {
   "cell_type": "code",
   "execution_count": 16,
   "id": "6a5aa48b",
   "metadata": {},
   "outputs": [
    {
     "name": "stderr",
     "output_type": "stream",
     "text": [
      "C:\\Users\\SADAF KAUSER\\AppData\\Local\\Temp\\ipykernel_13152\\607821367.py:6: FutureWarning: Support for multi-dimensional indexing (e.g. `obj[:, None]`) is deprecated and will be removed in a future version.  Convert to a numpy array before indexing instead.\n",
      "  X_train = X_train[:, np.newaxis]\n",
      "C:\\Users\\SADAF KAUSER\\AppData\\Local\\Temp\\ipykernel_13152\\607821367.py:7: FutureWarning: Support for multi-dimensional indexing (e.g. `obj[:, None]`) is deprecated and will be removed in a future version.  Convert to a numpy array before indexing instead.\n",
      "  X_test = X_test[:, np.newaxis]\n"
     ]
    }
   ],
   "source": [
    "#It is a general convention in scikit-learn that observations are rows, while features are columns. \n",
    "#This is needed only when you are using a single feature; in this case, 'TV'.\n",
    "\n",
    "import numpy as np\n",
    "#Simply put, numpy.newaxis is used to increase the dimension of the existing array by one more dimension,\n",
    "X_train = X_train[:, np.newaxis]\n",
    "X_test = X_test[:, np.newaxis]"
   ]
  },
  {
   "cell_type": "code",
   "execution_count": 17,
   "id": "b453a69d",
   "metadata": {},
   "outputs": [
    {
     "data": {
      "text/plain": [
       "array([[265.2],\n",
       "       [197.6],\n",
       "       [218.5],\n",
       "       [147.3],\n",
       "       [171.3],\n",
       "       [217.7],\n",
       "       [262.7],\n",
       "       [163.5],\n",
       "       [100.4],\n",
       "       [ 76.3],\n",
       "       [184.9],\n",
       "       [134.3],\n",
       "       [273.7],\n",
       "       [296.4],\n",
       "       [ 96.2],\n",
       "       [109.8],\n",
       "       [255.4],\n",
       "       [204.1],\n",
       "       [240.1],\n",
       "       [193.7],\n",
       "       [191.1],\n",
       "       [ 89.7],\n",
       "       [ 43. ],\n",
       "       [ 38.2],\n",
       "       [ 13.1],\n",
       "       [239.3],\n",
       "       [ 17.2],\n",
       "       [210.7],\n",
       "       [ 25.6],\n",
       "       [177. ],\n",
       "       [206.9],\n",
       "       [ 66.1],\n",
       "       [149.7],\n",
       "       [129.4],\n",
       "       [ 94.2],\n",
       "       [276.7],\n",
       "       [276.9],\n",
       "       [  7.8],\n",
       "       [250.9],\n",
       "       [175.7],\n",
       "       [ 11.7],\n",
       "       [ 75.5],\n",
       "       [199.8],\n",
       "       [230.1],\n",
       "       [107.4],\n",
       "       [225.8],\n",
       "       [163.3],\n",
       "       [131.1],\n",
       "       [206.8],\n",
       "       [177. ],\n",
       "       [216.8],\n",
       "       [ 66.9],\n",
       "       [227.2],\n",
       "       [193.2],\n",
       "       [ 97.5],\n",
       "       [ 85.7],\n",
       "       [228.3],\n",
       "       [139.5],\n",
       "       [ 48.3],\n",
       "       [218.4],\n",
       "       [195.4],\n",
       "       [  5.4],\n",
       "       [238.2],\n",
       "       [216.4],\n",
       "       [222.4],\n",
       "       [ 27.5],\n",
       "       [151.5],\n",
       "       [139.2],\n",
       "       [117.2],\n",
       "       [283.6],\n",
       "       [ 57.5],\n",
       "       [237.4],\n",
       "       [213.5],\n",
       "       [ 18.8],\n",
       "       [  4.1],\n",
       "       [164.5],\n",
       "       [ 93.9],\n",
       "       [ 28.6],\n",
       "       [232.1],\n",
       "       [214.7],\n",
       "       [ 19.4],\n",
       "       [280.2],\n",
       "       [290.7],\n",
       "       [136.2],\n",
       "       [ 69. ],\n",
       "       [ 44.5],\n",
       "       [141.3],\n",
       "       [188.4],\n",
       "       [293.6],\n",
       "       [137.9],\n",
       "       [  8.4],\n",
       "       [168.4],\n",
       "       [281.4],\n",
       "       [ 43.1],\n",
       "       [219.8],\n",
       "       [182.6],\n",
       "       [149.8],\n",
       "       [220.3],\n",
       "       [ 95.7],\n",
       "       [248.8],\n",
       "       [ 78.2],\n",
       "       [121. ],\n",
       "       [112.9],\n",
       "       [ 17.9],\n",
       "       [ 80.2],\n",
       "       [248.4],\n",
       "       [ 97.2],\n",
       "       [220.5],\n",
       "       [284.3],\n",
       "       [243.2],\n",
       "       [ 70.6],\n",
       "       [135.2],\n",
       "       [ 75.3],\n",
       "       [116. ],\n",
       "       [ 75.1],\n",
       "       [ 38. ],\n",
       "       [166.8],\n",
       "       [ 26.8],\n",
       "       [120.5],\n",
       "       [262.9],\n",
       "       [234.5],\n",
       "       [239.8],\n",
       "       [286. ],\n",
       "       [222.4],\n",
       "       [ 39.5],\n",
       "       [228. ],\n",
       "       [210.8],\n",
       "       [ 73.4],\n",
       "       [ 88.3],\n",
       "       [199.1],\n",
       "       [110.7],\n",
       "       [266.9],\n",
       "       [237.4],\n",
       "       [199.8],\n",
       "       [187.9],\n",
       "       [139.3],\n",
       "       [ 17.2],\n",
       "       [ 76.4],\n",
       "       [239.9],\n",
       "       [ 19.6]])"
      ]
     },
     "execution_count": 17,
     "metadata": {},
     "output_type": "execute_result"
    }
   ],
   "source": [
    "X_train"
   ]
  },
  {
   "cell_type": "code",
   "execution_count": 18,
   "id": "ff00a096",
   "metadata": {},
   "outputs": [
    {
     "data": {
      "text/plain": [
       "array([[ 69.2],\n",
       "       [ 50. ],\n",
       "       [ 90.4],\n",
       "       [289.7],\n",
       "       [170.2],\n",
       "       [ 56.2],\n",
       "       [  8.7],\n",
       "       [240.1],\n",
       "       [ 23.8],\n",
       "       [197.6],\n",
       "       [261.3],\n",
       "       [ 87.2],\n",
       "       [156.6],\n",
       "       [187.8],\n",
       "       [ 76.4],\n",
       "       [120.2],\n",
       "       [265.6],\n",
       "       [  0.7],\n",
       "       [ 74.7],\n",
       "       [213.4],\n",
       "       [287.6],\n",
       "       [140.3],\n",
       "       [175.1],\n",
       "       [131.7],\n",
       "       [ 53.5],\n",
       "       [123.1],\n",
       "       [165.6],\n",
       "       [205. ],\n",
       "       [224. ],\n",
       "       [ 25.1],\n",
       "       [ 67.8],\n",
       "       [198.9],\n",
       "       [280.7],\n",
       "       [241.7],\n",
       "       [ 13.2],\n",
       "       [ 18.7],\n",
       "       [ 59.6],\n",
       "       [180.8],\n",
       "       [ 68.4],\n",
       "       [ 25. ],\n",
       "       [ 36.9],\n",
       "       [ 31.5],\n",
       "       [142.9],\n",
       "       [209.6],\n",
       "       [215.4],\n",
       "       [102.7],\n",
       "       [  8.6],\n",
       "       [ 16.9],\n",
       "       [125.7],\n",
       "       [104.6],\n",
       "       [109.8],\n",
       "       [229.5],\n",
       "       [253.8],\n",
       "       [184.9],\n",
       "       [ 44.7],\n",
       "       [ 62.3],\n",
       "       [292.9],\n",
       "       [172.5],\n",
       "       [202.5],\n",
       "       [  7.3]])"
      ]
     },
     "execution_count": 18,
     "metadata": {},
     "output_type": "execute_result"
    }
   ],
   "source": [
    "X_test"
   ]
  },
  {
   "cell_type": "code",
   "execution_count": 17,
   "id": "0f055297",
   "metadata": {},
   "outputs": [
    {
     "data": {
      "text/html": [
       "<div>\n",
       "<style scoped>\n",
       "    .dataframe tbody tr th:only-of-type {\n",
       "        vertical-align: middle;\n",
       "    }\n",
       "\n",
       "    .dataframe tbody tr th {\n",
       "        vertical-align: top;\n",
       "    }\n",
       "\n",
       "    .dataframe thead th {\n",
       "        text-align: right;\n",
       "    }\n",
       "</style>\n",
       "<table border=\"1\" class=\"dataframe\">\n",
       "  <thead>\n",
       "    <tr style=\"text-align: right;\">\n",
       "      <th></th>\n",
       "      <th>TV</th>\n",
       "      <th>Sales</th>\n",
       "    </tr>\n",
       "  </thead>\n",
       "  <tbody>\n",
       "    <tr>\n",
       "      <th>0</th>\n",
       "      <td>230.1</td>\n",
       "      <td>22.1</td>\n",
       "    </tr>\n",
       "    <tr>\n",
       "      <th>1</th>\n",
       "      <td>44.5</td>\n",
       "      <td>10.4</td>\n",
       "    </tr>\n",
       "    <tr>\n",
       "      <th>2</th>\n",
       "      <td>17.2</td>\n",
       "      <td>9.3</td>\n",
       "    </tr>\n",
       "    <tr>\n",
       "      <th>3</th>\n",
       "      <td>151.5</td>\n",
       "      <td>18.5</td>\n",
       "    </tr>\n",
       "    <tr>\n",
       "      <th>4</th>\n",
       "      <td>180.8</td>\n",
       "      <td>12.9</td>\n",
       "    </tr>\n",
       "    <tr>\n",
       "      <th>...</th>\n",
       "      <td>...</td>\n",
       "      <td>...</td>\n",
       "    </tr>\n",
       "    <tr>\n",
       "      <th>195</th>\n",
       "      <td>38.2</td>\n",
       "      <td>7.6</td>\n",
       "    </tr>\n",
       "    <tr>\n",
       "      <th>196</th>\n",
       "      <td>94.2</td>\n",
       "      <td>9.7</td>\n",
       "    </tr>\n",
       "    <tr>\n",
       "      <th>197</th>\n",
       "      <td>177.0</td>\n",
       "      <td>12.8</td>\n",
       "    </tr>\n",
       "    <tr>\n",
       "      <th>198</th>\n",
       "      <td>283.6</td>\n",
       "      <td>25.5</td>\n",
       "    </tr>\n",
       "    <tr>\n",
       "      <th>199</th>\n",
       "      <td>232.1</td>\n",
       "      <td>13.4</td>\n",
       "    </tr>\n",
       "  </tbody>\n",
       "</table>\n",
       "<p>200 rows × 2 columns</p>\n",
       "</div>"
      ],
      "text/plain": [
       "        TV  Sales\n",
       "0    230.1   22.1\n",
       "1     44.5   10.4\n",
       "2     17.2    9.3\n",
       "3    151.5   18.5\n",
       "4    180.8   12.9\n",
       "..     ...    ...\n",
       "195   38.2    7.6\n",
       "196   94.2    9.7\n",
       "197  177.0   12.8\n",
       "198  283.6   25.5\n",
       "199  232.1   13.4\n",
       "\n",
       "[200 rows x 2 columns]"
      ]
     },
     "execution_count": 17,
     "metadata": {},
     "output_type": "execute_result"
    }
   ],
   "source": [
    "df"
   ]
  },
  {
   "cell_type": "markdown",
   "id": "3d830b97",
   "metadata": {},
   "source": [
    "Performing Linear Regression"
   ]
  },
  {
   "cell_type": "markdown",
   "id": "2a2f4899",
   "metadata": {},
   "source": [
    "In the code snippet lr.fit(X_train, y_train), lr refers to an instance of a machine learning model, specifically a linear regression model. fit() is a method in scikit-learn (a popular machine learning library in Python) that is used to train the model.\n",
    "\n",
    "The fit() method is typically called on a machine learning model object to fit the model to the training data. It takes two main arguments:\n",
    "\n",
    "X_train: This represents the input features or independent variables of the training data. It should be a matrix-like object, such as a NumPy array or a Pandas DataFrame, where each row corresponds to an instance and each column represents a feature.\n",
    "\n",
    "y_train: This represents the target variable or the dependent variable of the training data. It should be a 1-dimensional array-like object (e.g., NumPy array, Pandas Series) that contains the corresponding labels or values to be predicted.\n",
    "\n",
    "When you call lr.fit(X_train, y_train), the linear regression model (lr) will analyze the training data and adjust its internal parameters to minimize the difference between the predicted values and the actual target values. This process is known as model training or model fitting.\n",
    "\n",
    "After the fit() method is executed, the linear regression model lr will have learned from the training data, and you can use the trained model to make predictions on new, unseen data using the predict() method."
   ]
  },
  {
   "cell_type": "code",
   "execution_count": 1,
   "id": "91538827",
   "metadata": {},
   "outputs": [
    {
     "ename": "NameError",
     "evalue": "name 'X_train' is not defined",
     "output_type": "error",
     "traceback": [
      "\u001b[1;31m---------------------------------------------------------------------------\u001b[0m",
      "\u001b[1;31mNameError\u001b[0m                                 Traceback (most recent call last)",
      "Input \u001b[1;32mIn [1]\u001b[0m, in \u001b[0;36m<cell line: 8>\u001b[1;34m()\u001b[0m\n\u001b[0;32m      5\u001b[0m lr \u001b[38;5;241m=\u001b[39m LinearRegression()\n\u001b[0;32m      7\u001b[0m \u001b[38;5;66;03m# Fit the model using lr.fit()\u001b[39;00m\n\u001b[1;32m----> 8\u001b[0m lr\u001b[38;5;241m.\u001b[39mfit(\u001b[43mX_train\u001b[49m, y_train)\n",
      "\u001b[1;31mNameError\u001b[0m: name 'X_train' is not defined"
     ]
    }
   ],
   "source": [
    "# import LinearRegression from sklearn\n",
    "from sklearn.linear_model import LinearRegression\n",
    "\n",
    "# Representing LinearRegression as lr(Creating LinearRegression Object)\n",
    "lr = LinearRegression()\n",
    "\n",
    "# Fit the model using lr.fit()\n",
    "lr.fit(X_train, y_train)"
   ]
  },
  {
   "cell_type": "markdown",
   "id": "f56ee6d9",
   "metadata": {},
   "source": [
    "# Coefficients Calculation"
   ]
  },
  {
   "cell_type": "code",
   "execution_count": 19,
   "id": "d9e0554b",
   "metadata": {},
   "outputs": [
    {
     "name": "stdout",
     "output_type": "stream",
     "text": [
      "7.310810165411681\n",
      "[0.04581434]\n"
     ]
    }
   ],
   "source": [
    "# Print the intercept and coefficients\n",
    "print(lr.intercept_)\n",
    "print(lr.coef_)"
   ]
  },
  {
   "cell_type": "markdown",
   "id": "953c00d4",
   "metadata": {},
   "source": [
    "The intercept_ and coef_ attributes are specific to scikit-learn's LinearRegression model. After fitting the linear regression model (lr.fit(X_train, y_train)), you can access these attributes to obtain the intercept and coefficients of the linear regression equation.\n",
    "\n",
    "The intercept_ attribute represents the intercept or the y-intercept of the linear regression line, while the coef_ attribute contains the coefficients or slopes associated with each feature in the input data."
   ]
  },
  {
   "cell_type": "markdown",
   "id": "064f0904",
   "metadata": {},
   "source": [
    "Note that the coef_ attribute returns an array of coefficients, where each coefficient corresponds to a specific feature in the same order as they appear in the input X_train. The intercept is a single value representing the y-intercept of the linear regression line."
   ]
  },
  {
   "cell_type": "code",
   "execution_count": 35,
   "id": "f9e20339",
   "metadata": {
    "scrolled": true
   },
   "outputs": [
    {
     "data": {
      "text/plain": [
       "array([10.48116264,  9.60152727, 11.4524267 , 20.58322509, 15.1084112 ,\n",
       "        9.8855762 ,  7.70939494, 18.31083372,  8.40119151, 16.36372418,\n",
       "       19.28209777, 11.3058208 , 14.48533615, 15.91474363, 10.81102591,\n",
       "       12.81769409, 19.47909945,  7.3428802 , 10.73314153, 17.08759078,\n",
       "       20.48701497, 13.73856237, 15.33290148, 13.34455903,  9.76187747,\n",
       "       12.95055569, 14.89766523, 16.70275031, 17.57322281,  8.46075015,\n",
       "       10.41702256, 16.42328282, 20.17089601, 18.38413667,  7.91555948,\n",
       "        8.16753836, 10.04134496, 15.59404323, 10.44451117,  8.45616872,\n",
       "        9.00135939,  8.75396194, 13.85767966, 16.91349628, 17.17921947,\n",
       "       12.01594311,  7.70481351,  8.08507255, 13.06967298, 12.10299036,\n",
       "       12.34122494, 17.82520169, 18.93849021, 15.78188203,  9.35871126,\n",
       "       10.16504368, 20.72983099, 15.21378419, 16.58821446,  7.64525486])"
      ]
     },
     "execution_count": 35,
     "metadata": {},
     "output_type": "execute_result"
    }
   ],
   "source": [
    "# Making predictions on the testing set\n",
    "y_pred = lr.predict(X_test)\n",
    "y_pred"
   ]
  },
  {
   "cell_type": "markdown",
   "id": "b198aa32",
   "metadata": {},
   "source": [
    "After training a linear regression model (lr.fit(X_train, y_train)) and obtaining the predictions on the testing set, you can use the predict() method to make predictions on new, unseen data. The predict() method takes the input features of the testing data (X_test) as its argument and returns the predicted values."
   ]
  },
  {
   "cell_type": "markdown",
   "id": "613c75d8",
   "metadata": {},
   "source": [
    "The y_pred variable will be an array-like object containing the predicted values for the corresponding instances in the testing set. Each element in y_pred represents the model's prediction for a specific instance in the testing data."
   ]
  },
  {
   "cell_type": "code",
   "execution_count": 21,
   "id": "1487433d",
   "metadata": {},
   "outputs": [
    {
     "data": {
      "text/plain": [
       "numpy.ndarray"
      ]
     },
     "execution_count": 21,
     "metadata": {},
     "output_type": "execute_result"
    }
   ],
   "source": [
    "type(y_pred)"
   ]
  },
  {
   "cell_type": "markdown",
   "id": "c787f57d",
   "metadata": {},
   "source": [
    "import matplotlib.pyplot as plt: This imports the pyplot module from the matplotlib library, which provides functions for creating plots and visualizations.\n",
    "\n",
    "c = [i for i in range(1,61,1)]: This line generates a list c containing values from 1 to 60 (assuming there are 60 instances in the test set) to be used as the x-axis index.\n",
    "\n",
    "fig = plt.figure(): This creates a new figure object that serves as the container for the plot.\n",
    "\n",
    "plt.plot(c, y_test, color=\"blue\", linewidth=2, linestyle=\"-\"): This plots the actual values (y_test) against the index (c). The actual values are shown as a blue line with a linewidth of 2.\n",
    "\n",
    "plt.plot(c, y_pred, color=\"red\", linewidth=2, linestyle=\"-\"): This plots the predicted values (y_pred) against the index (c). The predicted values are shown as a red line with a linewidth of 2.\n",
    "\n",
    "fig.suptitle('Actual and Predicted', fontsize=20): This adds a centered title to the plot, specifying it as \"Actual and Predicted\" with a font size of 20.\n",
    "\n",
    "plt.xlabel('Index', fontsize=18): This adds a label to the x-axis of the plot, specifying it as \"Index\" with a font size of 18.\n",
    "\n",
    "plt.ylabel('Sales', fontsize=16): This adds a label to the y-axis of the plot, specifying it as \"Sales\" with a font size of 16.\n",
    "\n",
    "By executing this code, you will generate a plot that compares the actual values (y_test) and the predicted values (y_pred) against the index (c). The plot will have the title \"Actual and Predicted\" and labels for the x-axis and y-axis. The actual values will be shown in blue, while the predicted values will be shown in red."
   ]
  },
  {
   "cell_type": "code",
   "execution_count": 22,
   "id": "914245e6",
   "metadata": {},
   "outputs": [
    {
     "data": {
      "text/plain": [
       "Text(0, 0.5, 'Sales')"
      ]
     },
     "execution_count": 22,
     "metadata": {},
     "output_type": "execute_result"
    },
    {
     "data": {
      "image/png": "[encoded data removed]",
      "text/plain": [
       "<Figure size 432x288 with 1 Axes>"
      ]
     },
     "metadata": {
      "needs_background": "light"
     },
     "output_type": "display_data"
    }
   ],
   "source": [
    "# Actual vs Predicted\n",
    "import matplotlib.pyplot as plt\n",
    "c = [i for i in range(1,61,1)]         # generating index \n",
    "fig = plt.figure()\n",
    "plt.plot(c,y_test, color=\"blue\", linewidth=2, linestyle=\"-\")\n",
    "plt.plot(c,y_pred, color=\"red\",  linewidth=2, linestyle=\"-\")\n",
    "fig.suptitle('Actual and Predicted', fontsize=20)              # Plot heading \n",
    "plt.xlabel('Index', fontsize=18)                               # X-label\n",
    "plt.ylabel('Sales', fontsize=16)  "
   ]
  },
  {
   "cell_type": "markdown",
   "id": "d093e937",
   "metadata": {},
   "source": [
    "c = [i for i in range(1,61,1)]: This line generates a list c containing values from 1 to 60 (assuming there are 60 instances in the test set) to be used as the x-axis index, similar to the previous code.\n",
    "\n",
    "fig = plt.figure(): This creates a new figure object for the plot, as before.\n",
    "\n",
    "plt.plot(c, y_test - y_pred, color=\"blue\", linewidth=2, linestyle=\"-\"): This plots the error terms, which are calculated by subtracting the predicted values (y_pred) from the actual values (y_test). The error terms are shown as a blue line with a linewidth of 2.\n",
    "\n",
    "fig.suptitle('Error Terms', fontsize=20): This adds a centered title to the plot, specifying it as \"Error Terms\" with a font size of 20.\n",
    "\n",
    "plt.xlabel('Index', fontsize=18): This adds a label to the x-axis of the plot, specifying it as \"Index\" with a font size of 18.\n",
    "\n",
    "plt.ylabel('y_test - y_pred', fontsize=16): This adds a label to the y-axis of the plot, specifying it as \"y_test - y_pred\" to represent the error terms, with a font size of 16.\n",
    "\n",
    "By executing this modified code, you will generate a plot showing the error terms (residuals) between the actual values (y_test) and the predicted values (y_pred). The plot will have the title \"Error Terms\" and labels for the x-axis and y-axis. The error terms will be shown as a blue line."
   ]
  },
  {
   "cell_type": "code",
   "execution_count": 23,
   "id": "25359abd",
   "metadata": {},
   "outputs": [
    {
     "data": {
      "text/plain": [
       "Text(0, 0.5, 'ytest-ypred')"
      ]
     },
     "execution_count": 23,
     "metadata": {},
     "output_type": "execute_result"
    },
    {
     "data": {
      "image/png": "[encoded data removed]",
      "text/plain": [
       "<Figure size 432x288 with 1 Axes>"
      ]
     },
     "metadata": {
      "needs_background": "light"
     },
     "output_type": "display_data"
    }
   ],
   "source": [
    "# Error terms\n",
    "c = [i for i in range(1,61,1)]\n",
    "fig = plt.figure()\n",
    "plt.plot(c,y_test-y_pred, color=\"blue\", linewidth=2, linestyle=\"-\")\n",
    "fig.suptitle('Error Terms', fontsize=20)              # Plot heading \n",
    "plt.xlabel('Index', fontsize=18)                      # X-label\n",
    "plt.ylabel('ytest-ypred', fontsize=16)     "
   ]
  },
  {
   "cell_type": "markdown",
   "id": "30877228",
   "metadata": {},
   "source": [
    "\n",
    "In the code snippet you provided, you are calculating the mean squared error (MSE) using scikit-learn's mean_squared_error function. The mean_squared_error function is part of the sklearn.metrics module and is commonly used to evaluate the performance of regression models. Here's an explanation of the code:"
   ]
  },
  {
   "cell_type": "markdown",
   "id": "7bc62c32",
   "metadata": {},
   "source": [
    "The mean squared error measures the average squared difference between the predicted values and the actual values. It is defined as:\n",
    "\n",
    "MSE = (1/n) * Σ(y_i - ŷ_i)^2\n",
    "\n",
    "Where:\n",
    "\n",
    "n is the number of samples or instances.\n",
    "y_i represents the actual value of the target variable for the i-th sample.\n",
    "ŷ_i represents the predicted value of the target variable for the i-th sample.\n",
    "Σ denotes the summation over all samples.\n",
    "Here's a step-by-step breakdown of how the mean squared error is calculated:\n",
    "\n",
    "Calculate the difference between the actual and predicted values for each sample: (y_i - ŷ_i).\n",
    "\n",
    "Square the differences to remove any negative signs and emphasize larger errors: (y_i - ŷ_i)^2.\n",
    "\n",
    "Sum up the squared differences for all samples: Σ(y_i - ŷ_i)^2.\n",
    "\n",
    "Divide the sum by the number of samples to compute the average: (1/n) * Σ(y_i - ŷ_i)^2.\n",
    "\n",
    "Let's consider a simple example with three samples:\n",
    "\n",
    "Actual values (y):\n",
    "[3, 5, 7]\n",
    "\n",
    "Predicted values (ŷ):\n",
    "[2, 4, 6]\n",
    "\n",
    "Step-by-step calculation:\n",
    "\n",
    "(3-2)^2 = 1\n",
    "(5-4)^2 = 1\n",
    "(7-6)^2 = 1\n",
    "Sum of squared differences: 1 + 1 + 1 = 3\n",
    "\n",
    "Divide by the number of samples (n=3):\n",
    "MSE = (1/3) * 3 = 1\n",
    "\n",
    "So, in this example, the mean squared error is 1.\n",
    "\n",
    "The MSE provides a way to quantify the average squared difference between the predicted values and the actual values. It is often used as a loss function to be minimized during the training of regression models, with lower values indicating better model performance."
   ]
  },
  {
   "cell_type": "markdown",
   "id": "e84e84a3",
   "metadata": {},
   "source": [
    "\n",
    "If the mean squared error (MSE) is 1, it means that, on average, the squared difference between the predicted values and the actual values is 1.\n",
    "\n",
    "In the context of regression models and prediction tasks, the MSE is a measure of how well the model's predictions match the true values. Since the MSE involves squared differences, it gives higher weight to larger errors or deviations between predictions and actual values.\n",
    "\n",
    "Here's a general interpretation of the MSE:\n",
    "\n",
    "The MSE value of 0 indicates a perfect prediction, meaning that the model's predictions exactly match the true values. However, achieving an MSE of 0 is rare and typically indicates overfitting, where the model is too complex and may have memorized the training data.\n",
    "\n",
    "A lower MSE value indicates better predictive performance. For example, an MSE of 0.5 is generally considered better than an MSE of 1, as it implies smaller errors on average.\n",
    "\n",
    "An MSE of 1 suggests that, on average, the model's predictions have a squared difference of 1 compared to the actual values. This can be interpreted as having moderate errors, where the model's predictions may deviate from the true values by an average of around 1 unit.\n",
    "\n",
    "Higher MSE values, such as 5 or 10, indicate larger errors on average between the predicted and actual values. These values suggest that the model's predictions have more substantial deviations from the true values.\n",
    "\n",
    "It's important to note that the interpretation of the MSE can vary depending on the specific problem and the scale of the target variable. It is often used as a relative measure to compare different models or model variations, where lower MSE values indicate better performance."
   ]
  },
  {
   "cell_type": "code",
   "execution_count": 24,
   "id": "bfa72137",
   "metadata": {},
   "outputs": [],
   "source": [
    "from sklearn.metrics import mean_squared_error, r2_score\n",
    "mse = mean_squared_error(y_test, y_pred)"
   ]
  },
  {
   "cell_type": "markdown",
   "id": "edc3b499",
   "metadata": {},
   "source": [
    "In the code snippet you provided, you are calculating the coefficient of determination (R-squared) using scikit-learn's r2_score function. The r2_score function is part of the sklearn.metrics module and is used to evaluate the goodness of fit of a regression model."
   ]
  },
  {
   "cell_type": "markdown",
   "id": "cf5d3369",
   "metadata": {},
   "source": [
    "from sklearn.metrics import mean_squared_error, r2_score: This line imports the mean_squared_error and r2_score functions from the sklearn.metrics module, as before.\n",
    "\n",
    "r_squared = r2_score(y_test, y_pred): This line calculates the coefficient of determination (R-squared) between the actual values (y_test) and the predicted values (y_pred). The r2_score function takes two arguments: the true values (y_test) and the predicted values (y_pred). The calculated R-squared value is then stored in the variable r_squared.\n",
    "\n",
    "After executing this code, the variable r_squared will contain the coefficient of determination (R-squared) between the actual values (y_test) and the predicted values (y_pred). The R-squared value is a statistical measure that indicates the proportion of the variance in the dependent variable that is predictable from the independent variables. It provides an indication of how well the regression model fits the data, with values between 0 and 1. Higher R-squared values indicate better model fit, where 1 represents a perfect fit."
   ]
  },
  {
   "cell_type": "markdown",
   "id": "8b454cf3",
   "metadata": {},
   "source": [
    "The coefficient of determination, often denoted as R², is a statistical measure that quantifies the proportion of the variance in the dependent variable that is predictable from the independent variables in a regression model. It is a value between 0 and 1, where:\n",
    "\n",
    "R² = 1 indicates a perfect fit, where all the variability in the dependent variable can be explained by the independent variables.\n",
    "R² = 0 indicates no linear relationship between the independent variables and the dependent variable.\n",
    "Mathematically, R² is calculated as follows:\n",
    "\n",
    "R² = 1 - (SSR/SST)\n",
    "\n",
    "where:\n",
    "\n",
    "SSR (Sum of Squares Residuals) represents the sum of squared differences between the actual values and the predicted values. It measures the unexplained variability of the dependent variable.\n",
    "SST (Sum of Squares Total) represents the total sum of squared differences between the actual values and the mean of the dependent variable. It measures the total variability of the dependent variable.\n",
    "Here's a step-by-step breakdown of how R² is calculated:\n",
    "\n",
    "Calculate the mean of the dependent variable: mean(y).\n",
    "\n",
    "Calculate the SST by summing the squared differences between each actual value (y_i) and the mean of the dependent variable (mean(y)): SST = Σ(y_i - mean(y))².\n",
    "\n",
    "Fit the regression model and obtain the predicted values (ŷ) for the dependent variable.\n",
    "\n",
    "Calculate the SSR by summing the squared differences between each actual value (y_i) and the predicted value (ŷ_i): SSR = Σ(y_i - ŷ_i)².\n",
    "\n",
    "Calculate R² using the formula R² = 1 - (SSR/SST).\n",
    "\n",
    "The R² value ranges between 0 and 1, where:\n",
    "\n",
    "R² = 1 indicates that the regression model explains all the variability in the dependent variable.\n",
    "R² = 0 indicates that the regression model does not explain any variability in the dependent variable.\n",
    "By computing the R-squared value, you can assess the goodness of fit of a regression model and evaluate how well the independent variables explain the variability in the dependent variable."
   ]
  },
  {
   "cell_type": "code",
   "execution_count": null,
   "id": "b756175f",
   "metadata": {},
   "outputs": [],
   "source": [
    "\n",
    "Suppose we have the following dataset with two independent variables (X1 and X2) and a dependent variable (Y):\n",
    "\n",
    "<!-- X1\tX2\tY\n",
    "    1\t2\t5\n",
    "    2\t3\t8\n",
    "    3\t4\t10\n",
    "    4\t5\t12\n",
    "    5\t6\t15 -->\n",
    "We want to fit a linear regression model to predict Y based on X1 and X2.\n",
    "\n",
    "Step 1: Calculate the mean of the dependent variable (Y):\n",
    "\n",
    "mean(Y) = (5 + 8 + 10 + 12 + 15) / 5 = 10\n",
    "\n",
    "Step 2: Calculate SST (Sum of Squares Total):\n",
    "\n",
    "SST = Σ(Yi - mean(Y))² = (5 - 10)² + (8 - 10)² + (10 - 10)² + (12 - 10)² + (15 - 10)²\n",
    "= 25 + 4 + 0 + 4 + 25\n",
    "= 58\n",
    "\n",
    "Step 3: Fit the regression model and obtain the predicted values (ŷ) for the dependent variable. \n",
    "    Let's assume the predicted values are as follows:\n",
    "\n",
    "ŷ = [6, 9, 11, 13, 16]\n",
    "\n",
    "Step 4: Calculate SSR (Sum of Squares Residuals):\n",
    "\n",
    "SSR = Σ(Yi - ŷi)² = (5 - 6)² + (8 - 9)² + (10 - 11)² + (12 - 13)² + (15 - 16)²\n",
    "= 1 + 1 + 1 + 1 + 1\n",
    "= 5\n",
    "\n",
    "Step 5: Calculate R²:\n",
    "\n",
    "R² = 1 - (SSR/SST) = 1 - (5/58) ≈ 0.9138\n",
    "\n",
    "Therefore, in this example, the coefficient of determination (R-squared) is approximately 0.9138. \n",
    "This value suggests that around 91.38% of the variability in the dependent variable (Y) can be explained by the independent\n",
    "variables (X1 and X2) in the regression model."
   ]
  },
  {
   "cell_type": "code",
   "execution_count": 25,
   "id": "f89e0d5a",
   "metadata": {},
   "outputs": [],
   "source": [
    "r_squared = r2_score(y_test, y_pred)"
   ]
  },
  {
   "cell_type": "code",
   "execution_count": 26,
   "id": "2683a364",
   "metadata": {},
   "outputs": [
    {
     "name": "stdout",
     "output_type": "stream",
     "text": [
      "Mean_Squared_Error : 7.497479593464674\n",
      "r_square_value : 0.725606346597073\n"
     ]
    }
   ],
   "source": [
    "print('Mean_Squared_Error :' ,mse)\n",
    "print('r_square_value :',r_squared)"
   ]
  },
  {
   "cell_type": "code",
   "execution_count": 27,
   "id": "d0c57f31",
   "metadata": {},
   "outputs": [],
   "source": [
    "# this mse =7.9 means that this model is not able to match the 7.9 percent of the values\n",
    "# r2 means that your model is 72% is accurate on test data ."
   ]
  },
  {
   "cell_type": "code",
   "execution_count": 28,
   "id": "d474c10d",
   "metadata": {},
   "outputs": [
    {
     "data": {
      "image/png": "[encoded data removed]",
      "text/plain": [
       "<Figure size 432x288 with 1 Axes>"
      ]
     },
     "metadata": {
      "needs_background": "light"
     },
     "output_type": "display_data"
    }
   ],
   "source": [
    "import matplotlib.pyplot as plt\n",
    "plt.scatter(y_test,y_pred,c='blue')\n",
    "plt.xlabel('Y Test')\n",
    "plt.ylabel('Predicted Y')\n",
    "plt.grid()"
   ]
  },
  {
   "cell_type": "code",
   "execution_count": 41,
   "id": "004772bf",
   "metadata": {},
   "outputs": [
    {
     "data": {
      "image/png": "[encoded data removed]",
      "text/plain": [
       "<Figure size 432x288 with 1 Axes>"
      ]
     },
     "metadata": {
      "needs_background": "light"
     },
     "output_type": "display_data"
    }
   ],
   "source": [
    "import matplotlib.pyplot as plt\n",
    "plt.scatter(X_test,y_test,c='blue')\n",
    "plt.xlabel('X Test')\n",
    "plt.ylabel('Y Test')\n",
    "plt.grid()"
   ]
  },
  {
   "cell_type": "code",
   "execution_count": 42,
   "id": "e48cff47",
   "metadata": {},
   "outputs": [
    {
     "data": {
      "image/png": "[encoded data removed]",
      "text/plain": [
       "<Figure size 432x288 with 1 Axes>"
      ]
     },
     "metadata": {
      "needs_background": "light"
     },
     "output_type": "display_data"
    }
   ],
   "source": [
    "import matplotlib.pyplot as plt\n",
    "plt.scatter(X_test,y_pred,c='blue')\n",
    "plt.xlabel('X Test')\n",
    "plt.ylabel('Predicted Y ')\n",
    "plt.grid()"
   ]
  },
  {
   "cell_type": "markdown",
   "id": "609124fb",
   "metadata": {},
   "source": [
    "# Homework"
   ]
  },
  {
   "cell_type": "code",
   "execution_count": 2,
   "id": "55b0152d",
   "metadata": {},
   "outputs": [],
   "source": [
    "import numpy as np # linear algebra\n",
    "import pandas as pd # data processing, CSV file I/O (e.g. pd.read_csv)\n",
    "import seaborn as sns\n",
    "import matplotlib.pyplot as plt"
   ]
  },
  {
   "cell_type": "code",
   "execution_count": 3,
   "id": "937dd3e9",
   "metadata": {},
   "outputs": [],
   "source": [
    "df= pd.read_csv(\"C:\\\\Users\\\\SADAF KAUSER\\\\Documents\\\\CodeYoung\\\\ML Classes\\\\Files\\\\Salary_Data.csv\")"
   ]
  },
  {
   "cell_type": "code",
   "execution_count": 4,
   "id": "9b758bcf",
   "metadata": {},
   "outputs": [
    {
     "data": {
      "text/html": [
       "<div>\n",
       "<style scoped>\n",
       "    .dataframe tbody tr th:only-of-type {\n",
       "        vertical-align: middle;\n",
       "    }\n",
       "\n",
       "    .dataframe tbody tr th {\n",
       "        vertical-align: top;\n",
       "    }\n",
       "\n",
       "    .dataframe thead th {\n",
       "        text-align: right;\n",
       "    }\n",
       "</style>\n",
       "<table border=\"1\" class=\"dataframe\">\n",
       "  <thead>\n",
       "    <tr style=\"text-align: right;\">\n",
       "      <th></th>\n",
       "      <th>YearsExperience</th>\n",
       "      <th>Salary</th>\n",
       "    </tr>\n",
       "  </thead>\n",
       "  <tbody>\n",
       "    <tr>\n",
       "      <th>0</th>\n",
       "      <td>1.1</td>\n",
       "      <td>39343.0</td>\n",
       "    </tr>\n",
       "    <tr>\n",
       "      <th>1</th>\n",
       "      <td>1.3</td>\n",
       "      <td>46205.0</td>\n",
       "    </tr>\n",
       "    <tr>\n",
       "      <th>2</th>\n",
       "      <td>1.5</td>\n",
       "      <td>37731.0</td>\n",
       "    </tr>\n",
       "    <tr>\n",
       "      <th>3</th>\n",
       "      <td>2.0</td>\n",
       "      <td>43525.0</td>\n",
       "    </tr>\n",
       "    <tr>\n",
       "      <th>4</th>\n",
       "      <td>2.2</td>\n",
       "      <td>39891.0</td>\n",
       "    </tr>\n",
       "    <tr>\n",
       "      <th>5</th>\n",
       "      <td>2.9</td>\n",
       "      <td>56642.0</td>\n",
       "    </tr>\n",
       "    <tr>\n",
       "      <th>6</th>\n",
       "      <td>3.0</td>\n",
       "      <td>60150.0</td>\n",
       "    </tr>\n",
       "    <tr>\n",
       "      <th>7</th>\n",
       "      <td>3.2</td>\n",
       "      <td>54445.0</td>\n",
       "    </tr>\n",
       "    <tr>\n",
       "      <th>8</th>\n",
       "      <td>3.2</td>\n",
       "      <td>64445.0</td>\n",
       "    </tr>\n",
       "    <tr>\n",
       "      <th>9</th>\n",
       "      <td>3.7</td>\n",
       "      <td>57189.0</td>\n",
       "    </tr>\n",
       "    <tr>\n",
       "      <th>10</th>\n",
       "      <td>3.9</td>\n",
       "      <td>63218.0</td>\n",
       "    </tr>\n",
       "    <tr>\n",
       "      <th>11</th>\n",
       "      <td>4.0</td>\n",
       "      <td>55794.0</td>\n",
       "    </tr>\n",
       "    <tr>\n",
       "      <th>12</th>\n",
       "      <td>4.0</td>\n",
       "      <td>56957.0</td>\n",
       "    </tr>\n",
       "    <tr>\n",
       "      <th>13</th>\n",
       "      <td>4.1</td>\n",
       "      <td>57081.0</td>\n",
       "    </tr>\n",
       "    <tr>\n",
       "      <th>14</th>\n",
       "      <td>4.5</td>\n",
       "      <td>61111.0</td>\n",
       "    </tr>\n",
       "    <tr>\n",
       "      <th>15</th>\n",
       "      <td>4.9</td>\n",
       "      <td>67938.0</td>\n",
       "    </tr>\n",
       "    <tr>\n",
       "      <th>16</th>\n",
       "      <td>5.1</td>\n",
       "      <td>66029.0</td>\n",
       "    </tr>\n",
       "    <tr>\n",
       "      <th>17</th>\n",
       "      <td>5.3</td>\n",
       "      <td>83088.0</td>\n",
       "    </tr>\n",
       "    <tr>\n",
       "      <th>18</th>\n",
       "      <td>5.9</td>\n",
       "      <td>81363.0</td>\n",
       "    </tr>\n",
       "    <tr>\n",
       "      <th>19</th>\n",
       "      <td>6.0</td>\n",
       "      <td>93940.0</td>\n",
       "    </tr>\n",
       "    <tr>\n",
       "      <th>20</th>\n",
       "      <td>6.8</td>\n",
       "      <td>91738.0</td>\n",
       "    </tr>\n",
       "    <tr>\n",
       "      <th>21</th>\n",
       "      <td>7.1</td>\n",
       "      <td>98273.0</td>\n",
       "    </tr>\n",
       "    <tr>\n",
       "      <th>22</th>\n",
       "      <td>7.9</td>\n",
       "      <td>101302.0</td>\n",
       "    </tr>\n",
       "    <tr>\n",
       "      <th>23</th>\n",
       "      <td>8.2</td>\n",
       "      <td>113812.0</td>\n",
       "    </tr>\n",
       "    <tr>\n",
       "      <th>24</th>\n",
       "      <td>8.7</td>\n",
       "      <td>109431.0</td>\n",
       "    </tr>\n",
       "    <tr>\n",
       "      <th>25</th>\n",
       "      <td>9.0</td>\n",
       "      <td>105582.0</td>\n",
       "    </tr>\n",
       "    <tr>\n",
       "      <th>26</th>\n",
       "      <td>9.5</td>\n",
       "      <td>116969.0</td>\n",
       "    </tr>\n",
       "    <tr>\n",
       "      <th>27</th>\n",
       "      <td>9.6</td>\n",
       "      <td>112635.0</td>\n",
       "    </tr>\n",
       "    <tr>\n",
       "      <th>28</th>\n",
       "      <td>10.3</td>\n",
       "      <td>122391.0</td>\n",
       "    </tr>\n",
       "    <tr>\n",
       "      <th>29</th>\n",
       "      <td>10.5</td>\n",
       "      <td>121872.0</td>\n",
       "    </tr>\n",
       "  </tbody>\n",
       "</table>\n",
       "</div>"
      ],
      "text/plain": [
       "    YearsExperience    Salary\n",
       "0               1.1   39343.0\n",
       "1               1.3   46205.0\n",
       "2               1.5   37731.0\n",
       "3               2.0   43525.0\n",
       "4               2.2   39891.0\n",
       "5               2.9   56642.0\n",
       "6               3.0   60150.0\n",
       "7               3.2   54445.0\n",
       "8               3.2   64445.0\n",
       "9               3.7   57189.0\n",
       "10              3.9   63218.0\n",
       "11              4.0   55794.0\n",
       "12              4.0   56957.0\n",
       "13              4.1   57081.0\n",
       "14              4.5   61111.0\n",
       "15              4.9   67938.0\n",
       "16              5.1   66029.0\n",
       "17              5.3   83088.0\n",
       "18              5.9   81363.0\n",
       "19              6.0   93940.0\n",
       "20              6.8   91738.0\n",
       "21              7.1   98273.0\n",
       "22              7.9  101302.0\n",
       "23              8.2  113812.0\n",
       "24              8.7  109431.0\n",
       "25              9.0  105582.0\n",
       "26              9.5  116969.0\n",
       "27              9.6  112635.0\n",
       "28             10.3  122391.0\n",
       "29             10.5  121872.0"
      ]
     },
     "execution_count": 4,
     "metadata": {},
     "output_type": "execute_result"
    }
   ],
   "source": [
    "df"
   ]
  },
  {
   "cell_type": "code",
   "execution_count": 19,
   "id": "c828837a",
   "metadata": {},
   "outputs": [],
   "source": [
    "#assigning the dependent and independent variables\n",
    "X = df.iloc[:,:-1].values\n",
    "y = df.iloc[:,1:2].values"
   ]
  },
  {
   "cell_type": "code",
   "execution_count": 20,
   "id": "0ca25bcc",
   "metadata": {},
   "outputs": [
    {
     "data": {
      "text/plain": [
       "Salary             0\n",
       "YearsExperience    0\n",
       "dtype: int64"
      ]
     },
     "execution_count": 20,
     "metadata": {},
     "output_type": "execute_result"
    }
   ],
   "source": [
    "#checking the null values in the dataset\n",
    "df.isnull().sum().sort_values(ascending=False)"
   ]
  },
  {
   "cell_type": "code",
   "execution_count": 21,
   "id": "d5817b8e",
   "metadata": {},
   "outputs": [
    {
     "data": {
      "text/plain": [
       "YearsExperience    0\n",
       "Salary             0\n",
       "dtype: int64"
      ]
     },
     "execution_count": 21,
     "metadata": {},
     "output_type": "execute_result"
    }
   ],
   "source": [
    "#checking the null values in the dataset\n",
    "df.isnull().sum()"
   ]
  },
  {
   "cell_type": "code",
   "execution_count": 22,
   "id": "2c7bf868",
   "metadata": {},
   "outputs": [
    {
     "data": {
      "image/png": "[encoded data removed]",
      "text/plain": [
       "<Figure size 432x288 with 1 Axes>"
      ]
     },
     "metadata": {
      "needs_background": "light"
     },
     "output_type": "display_data"
    }
   ],
   "source": [
    "#dataset.plot.scatter(y='Salary',x='YearsExperience')\n",
    "sns.regplot(y=\"Salary\", x=\"YearsExperience\", data=df);"
   ]
  },
  {
   "cell_type": "code",
   "execution_count": 23,
   "id": "efae9779",
   "metadata": {},
   "outputs": [],
   "source": [
    "from sklearn.model_selection import train_test_split\n",
    "X_train, X_test, y_train, y_test = train_test_split(X,y,test_size=0.2,random_state=0)\n"
   ]
  },
  {
   "cell_type": "code",
   "execution_count": 24,
   "id": "ee6f723d",
   "metadata": {},
   "outputs": [
    {
     "data": {
      "text/plain": [
       "LinearRegression()"
      ]
     },
     "execution_count": 24,
     "metadata": {},
     "output_type": "execute_result"
    }
   ],
   "source": [
    "#fitting simple linear regression to the training set\n",
    "from sklearn.linear_model import LinearRegression\n",
    "regressor = LinearRegression()\n",
    "regressor.fit(X_train,y_train)"
   ]
  },
  {
   "cell_type": "code",
   "execution_count": 25,
   "id": "42474d69",
   "metadata": {},
   "outputs": [],
   "source": [
    "y_pred=regressor.predict(X_test)"
   ]
  },
  {
   "cell_type": "code",
   "execution_count": 26,
   "id": "61e03c18",
   "metadata": {},
   "outputs": [
    {
     "data": {
      "text/plain": [
       "array([[ 40748.96184072],\n",
       "       [122699.62295594],\n",
       "       [ 64961.65717022],\n",
       "       [ 63099.14214487],\n",
       "       [115249.56285456],\n",
       "       [107799.50275317]])"
      ]
     },
     "execution_count": 26,
     "metadata": {},
     "output_type": "execute_result"
    }
   ],
   "source": [
    "y_pred"
   ]
  },
  {
   "cell_type": "code",
   "execution_count": 27,
   "id": "840c6c5e",
   "metadata": {},
   "outputs": [
    {
     "data": {
      "image/png": "[encoded data removed]",
      "text/plain": [
       "<Figure size 432x288 with 1 Axes>"
      ]
     },
     "metadata": {
      "needs_background": "light"
     },
     "output_type": "display_data"
    }
   ],
   "source": [
    "# visualising the training set results\n",
    "plt.scatter(X_train, y_train,color ='red')\n",
    "plt.plot(X_train, regressor.predict(X_train),color = 'green')\n",
    "plt.title('Salary Vs Experience (Training set)')\n",
    "plt.xlabel('Years of Experience')\n",
    "plt.ylabel('Salary')\n",
    "plt.show()"
   ]
  },
  {
   "cell_type": "code",
   "execution_count": 28,
   "id": "fc96325f",
   "metadata": {},
   "outputs": [
    {
     "data": {
      "image/png": "[encoded data removed]",
      "text/plain": [
       "<Figure size 432x288 with 1 Axes>"
      ]
     },
     "metadata": {
      "needs_background": "light"
     },
     "output_type": "display_data"
    }
   ],
   "source": [
    "# visualising the training set results\n",
    "plt.scatter(X_train, y_train,color ='red')\n",
    "plt.plot(X_test, regressor.predict(X_test),color = 'green')\n",
    "plt.title('Salary Vs Experience (Training set)')\n",
    "plt.xlabel('Years of Experience')\n",
    "plt.ylabel('Salary')\n",
    "plt.show()"
   ]
  },
  {
   "cell_type": "code",
   "execution_count": 29,
   "id": "dbd1b597",
   "metadata": {},
   "outputs": [
    {
     "data": {
      "image/png": "[encoded data removed]",
      "text/plain": [
       "<Figure size 432x288 with 1 Axes>"
      ]
     },
     "metadata": {
      "needs_background": "light"
     },
     "output_type": "display_data"
    }
   ],
   "source": [
    "import matplotlib.pyplot as plt\n",
    "plt.scatter(X_test,y_pred,c='blue')\n",
    "plt.xlabel('X Test')\n",
    "plt.ylabel('Predicted Y ')\n",
    "plt.grid()"
   ]
  },
  {
   "cell_type": "code",
   "execution_count": 30,
   "id": "c83373d9",
   "metadata": {},
   "outputs": [],
   "source": [
    "from sklearn.metrics import mean_squared_error, r2_score\n",
    "mse = mean_squared_error(y_test, y_pred)"
   ]
  },
  {
   "cell_type": "code",
   "execution_count": 31,
   "id": "eb61b4ef",
   "metadata": {},
   "outputs": [],
   "source": [
    "r_squared = r2_score(y_test, y_pred)"
   ]
  },
  {
   "cell_type": "code",
   "execution_count": 32,
   "id": "2d911404",
   "metadata": {},
   "outputs": [
    {
     "name": "stdout",
     "output_type": "stream",
     "text": [
      "Mean_Squared_Error : 12823412.298126549\n",
      "r_square_value : 0.988169515729126\n"
     ]
    }
   ],
   "source": [
    "print('Mean_Squared_Error :' ,mse)\n",
    "print('r_square_value :',r_squared)\n"
   ]
  },
  {
   "cell_type": "code",
   "execution_count": null,
   "id": "f2f5471b",
   "metadata": {},
   "outputs": [],
   "source": []
  }
 ],
 "metadata": {
  "kernelspec": {
   "display_name": "Python 3 (ipykernel)",
   "language": "python",
   "name": "python3"
  },
  "language_info": {
   "codemirror_mode": {
    "name": "ipython",
    "version": 3
   },
   "file_extension": ".py",
   "mimetype": "text/x-python",
   "name": "python",
   "nbconvert_exporter": "python",
   "pygments_lexer": "ipython3",
   "version": "3.9.12"
  }
 },
 "nbformat": 4,
 "nbformat_minor": 5
}
